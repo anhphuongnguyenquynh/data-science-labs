{
 "cells": [
  {
   "cell_type": "code",
   "execution_count": 1,
   "metadata": {},
   "outputs": [],
   "source": [
    "import numpy as np\n",
    "import pandas as pd"
   ]
  },
  {
   "cell_type": "code",
   "execution_count": 3,
   "metadata": {},
   "outputs": [
    {
     "name": "stdout",
     "output_type": "stream",
     "text": [
      "(517754, 14) (172585, 13)\n"
     ]
    }
   ],
   "source": [
    "incident_train = pd.read_csv('dataset/train.csv')\n",
    "incident_test = pd.read_csv('dataset/test.csv')\n",
    "print(incident_train.shape, incident_test.shape)"
   ]
  },
  {
   "cell_type": "code",
   "execution_count": 4,
   "metadata": {},
   "outputs": [
    {
     "name": "stdout",
     "output_type": "stream",
     "text": [
      "   id road_type  num_lanes  curvature  speed_limit  lighting weather  \\\n",
      "0   0     urban          2       0.06           35  daylight   rainy   \n",
      "1   1     urban          4       0.99           35  daylight   clear   \n",
      "2   2     rural          4       0.63           70       dim   clear   \n",
      "3   3   highway          4       0.07           35       dim   rainy   \n",
      "4   4     rural          1       0.58           60  daylight   foggy   \n",
      "\n",
      "   road_signs_present  public_road time_of_day  holiday  school_season  \\\n",
      "0               False         True   afternoon    False           True   \n",
      "1                True        False     evening     True           True   \n",
      "2               False         True     morning     True          False   \n",
      "3                True         True     morning    False          False   \n",
      "4               False        False     evening     True          False   \n",
      "\n",
      "   num_reported_accidents  accident_risk  \n",
      "0                       1           0.13  \n",
      "1                       0           0.35  \n",
      "2                       2           0.30  \n",
      "3                       1           0.21  \n",
      "4                       1           0.56  \n"
     ]
    }
   ],
   "source": [
    "print(incident_train.head(5))"
   ]
  },
  {
   "cell_type": "code",
   "execution_count": 7,
   "metadata": {},
   "outputs": [
    {
     "name": "stdout",
     "output_type": "stream",
     "text": [
      "id: 517754\n",
      "road_type: 3\n",
      "num_lanes: 4\n",
      "curvature: 261\n",
      "speed_limit: 5\n",
      "lighting: 3\n",
      "weather: 3\n",
      "road_signs_present: 2\n",
      "public_road: 2\n",
      "time_of_day: 3\n",
      "holiday: 2\n",
      "school_season: 2\n",
      "num_reported_accidents: 8\n",
      "accident_risk: 98\n"
     ]
    }
   ],
   "source": [
    "#unique values in incident_train dataset\n",
    "for col in incident_train.columns:\n",
    "    print(f\"{col}: {incident_train[col].nunique()}\")"
   ]
  }
 ],
 "metadata": {
  "kernelspec": {
   "display_name": "Python 3",
   "language": "python",
   "name": "python3"
  },
  "language_info": {
   "codemirror_mode": {
    "name": "ipython",
    "version": 3
   },
   "file_extension": ".py",
   "mimetype": "text/x-python",
   "name": "python",
   "nbconvert_exporter": "python",
   "pygments_lexer": "ipython3",
   "version": "3.9.6"
  }
 },
 "nbformat": 4,
 "nbformat_minor": 2
}
